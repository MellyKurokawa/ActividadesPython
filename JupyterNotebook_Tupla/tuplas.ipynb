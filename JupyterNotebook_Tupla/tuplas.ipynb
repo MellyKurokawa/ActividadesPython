{
  "nbformat": 4,
  "nbformat_minor": 0,
  "metadata": {
    "colab": {
      "provenance": []
    },
    "kernelspec": {
      "name": "python3",
      "display_name": "Python 3"
    },
    "language_info": {
      "name": "python"
    }
  },
  "cells": [
    {
      "cell_type": "markdown",
      "source": [
        "# Tuplas"
      ],
      "metadata": {
        "id": "8br3FMJfGW2_"
      }
    },
    {
      "cell_type": "markdown",
      "source": [
        "## ¿Qué son?\n",
        "Las tuplas en Python son similares a las listas pero inmutables, lo que significa que no se pueden modificar, añadir o eliminar elementos una vez creadas.\n"
      ],
      "metadata": {
        "id": "flw2usnmEQjU"
      }
    },
    {
      "cell_type": "markdown",
      "source": [
        "## ¿Cómo se crean las tuplas?\n",
        "- Primero se pone el nombre que quieres que tenga la tupla.\n",
        "- En segundo abrimos los paréntesis.\n",
        "- Dentro de los paréntesis agregamos valores, estos pueden ser de diferentes tipos (números, cadenas, valores reales, una lista también).\n",
        "- Ya que la tengamos lista, la imprimimos."
      ],
      "metadata": {
        "id": "aijkycTNgemo"
      }
    },
    {
      "cell_type": "code",
      "source": [
        "#Creamos la tupla con diferentes tipos de valores\n",
        "tupla = (1, \"Holis\", 6.78, [1,2,3,4])\n",
        "\n",
        "#Imprimimos la tupla\n",
        "print(tupla)"
      ],
      "metadata": {
        "colab": {
          "base_uri": "https://localhost:8080/"
        },
        "id": "mKvRez4fjoFl",
        "outputId": "37a43769-a9bd-4d78-900f-0b86e18d26f6"
      },
      "execution_count": null,
      "outputs": [
        {
          "output_type": "stream",
          "name": "stdout",
          "text": [
            "(1, 'Holis', 6.78, [1, 2, 3, 4])\n"
          ]
        }
      ]
    },
    {
      "cell_type": "markdown",
      "source": [
        "## ¿Cómo se modifican las tuplas?\n",
        "Las tuplas son estructuras de datos inmutables, lo que quiere decir que no se pueden modificar una vez creadas."
      ],
      "metadata": {
        "id": "tclkDQEsxVs8"
      }
    },
    {
      "cell_type": "code",
      "source": [
        "frutas = (\"Manzana\", \"Pera\", \"Sandía\", \"Mango\")\n",
        "print(frutas)\n",
        "#Intentamos modificar el valor 2 de la tupla pero no se puede como en una lista\n",
        "frutas[2] = \"Fresa\""
      ],
      "metadata": {
        "colab": {
          "base_uri": "https://localhost:8080/",
          "height": 193
        },
        "id": "vl0xeODFyiEi",
        "outputId": "313bb197-94aa-4553-e904-df5992034455"
      },
      "execution_count": null,
      "outputs": [
        {
          "output_type": "stream",
          "name": "stdout",
          "text": [
            "('Manzana', 'Pera', 'Sandía', 'Mango')\n"
          ]
        },
        {
          "output_type": "error",
          "ename": "TypeError",
          "evalue": "'tuple' object does not support item assignment",
          "traceback": [
            "\u001b[0;31m---------------------------------------------------------------------------\u001b[0m",
            "\u001b[0;31mTypeError\u001b[0m                                 Traceback (most recent call last)",
            "\u001b[0;32m<ipython-input-10-fa82b3a6eee8>\u001b[0m in \u001b[0;36m<cell line: 4>\u001b[0;34m()\u001b[0m\n\u001b[1;32m      2\u001b[0m \u001b[0mprint\u001b[0m\u001b[0;34m(\u001b[0m\u001b[0mfrutas\u001b[0m\u001b[0;34m)\u001b[0m\u001b[0;34m\u001b[0m\u001b[0;34m\u001b[0m\u001b[0m\n\u001b[1;32m      3\u001b[0m \u001b[0;34m\u001b[0m\u001b[0m\n\u001b[0;32m----> 4\u001b[0;31m \u001b[0mfrutas\u001b[0m\u001b[0;34m[\u001b[0m\u001b[0;36m2\u001b[0m\u001b[0;34m]\u001b[0m \u001b[0;34m=\u001b[0m \u001b[0;34m\"Fresa\"\u001b[0m\u001b[0;34m\u001b[0m\u001b[0;34m\u001b[0m\u001b[0m\n\u001b[0m",
            "\u001b[0;31mTypeError\u001b[0m: 'tuple' object does not support item assignment"
          ]
        }
      ]
    },
    {
      "cell_type": "markdown",
      "source": [
        "Sin embargo, si hay formas de \"modificar\" una tupla, aunque en realidad estás creando una nueva tupla con los cambios deseados o elementos que quieres añadir."
      ],
      "metadata": {
        "id": "6BGL-ynw0L76"
      }
    },
    {
      "cell_type": "code",
      "source": [
        "#Tenemos la tupla original\n",
        "tupla_original = (1, 2, 3)\n",
        "\n",
        "#Creamos una nueva tupla que sea igual a la original más los valores a agregar\n",
        "nueva_tupla = tupla_original + (4, 5)\n",
        "\n",
        "#Se imprime la tupla original\n",
        "print(tupla_original)\n",
        "\n",
        "#Se imprime la nueva tupla con los valores agregados\n",
        "print(nueva_tupla)"
      ],
      "metadata": {
        "colab": {
          "base_uri": "https://localhost:8080/"
        },
        "id": "1w7ZWv2lz1uy",
        "outputId": "e4f53d79-3ba8-4371-aad8-4ef00c11dba9"
      },
      "execution_count": null,
      "outputs": [
        {
          "output_type": "stream",
          "name": "stdout",
          "text": [
            "(1, 2, 3)\n",
            "(1, 2, 3, 4, 5)\n"
          ]
        }
      ]
    },
    {
      "cell_type": "markdown",
      "source": [
        "## ¿Cómo eliminar elementos en una tupla?\n",
        "Dado que las tuplas en Python son estructuras de datos inmutables, no puedes eliminar elementos de una tupla directamente."
      ],
      "metadata": {
        "id": "W121k7Jq1Zdr"
      }
    },
    {
      "cell_type": "code",
      "source": [
        "tamales = (\"Rajas\", \"Mole\", \"Piña\", \"Salsa verde\")\n",
        "print(tamales)\n",
        "\n",
        "#Al querer eliminar el último elemento de la tupla, no se puede\n",
        "tupla.pop()"
      ],
      "metadata": {
        "colab": {
          "base_uri": "https://localhost:8080/",
          "height": 193
        },
        "id": "amg6R77112B3",
        "outputId": "5e555502-0608-49ca-d9b1-4ce1537dbafe"
      },
      "execution_count": null,
      "outputs": [
        {
          "output_type": "stream",
          "name": "stdout",
          "text": [
            "('Rajas', 'Mole', 'Piña', 'Salsa verde')\n"
          ]
        },
        {
          "output_type": "error",
          "ename": "AttributeError",
          "evalue": "'tuple' object has no attribute 'pop'",
          "traceback": [
            "\u001b[0;31m---------------------------------------------------------------------------\u001b[0m",
            "\u001b[0;31mAttributeError\u001b[0m                            Traceback (most recent call last)",
            "\u001b[0;32m<ipython-input-18-d11838bdd4c4>\u001b[0m in \u001b[0;36m<cell line: 4>\u001b[0;34m()\u001b[0m\n\u001b[1;32m      2\u001b[0m \u001b[0mprint\u001b[0m\u001b[0;34m(\u001b[0m\u001b[0mtamales\u001b[0m\u001b[0;34m)\u001b[0m\u001b[0;34m\u001b[0m\u001b[0;34m\u001b[0m\u001b[0m\n\u001b[1;32m      3\u001b[0m \u001b[0;34m\u001b[0m\u001b[0m\n\u001b[0;32m----> 4\u001b[0;31m \u001b[0mtupla\u001b[0m\u001b[0;34m.\u001b[0m\u001b[0mpop\u001b[0m\u001b[0;34m(\u001b[0m\u001b[0;34m\"Salsa verde\"\u001b[0m\u001b[0;34m)\u001b[0m\u001b[0;34m\u001b[0m\u001b[0;34m\u001b[0m\u001b[0m\n\u001b[0m",
            "\u001b[0;31mAttributeError\u001b[0m: 'tuple' object has no attribute 'pop'"
          ]
        }
      ]
    },
    {
      "cell_type": "markdown",
      "source": [
        "Sin embargo, puedes crear una nueva tupla que excluya los elementos que deseas eliminar. Una es usando slicing, creando una nueva tupla que excluya los elementos que deseas eliminar."
      ],
      "metadata": {
        "id": "GSSPlmL12gdw"
      }
    },
    {
      "cell_type": "code",
      "source": [
        "tupla_numero = (1, 2, 3, 4, 5)\n",
        "print(tupla_numero)\n",
        "\n",
        "elemento_a_eliminar = 2\n",
        "tupla_nueva = tupla_numero[:elemento_a_eliminar] + tupla_numero[elemento_a_eliminar + 1:]\n",
        "print(tupla_nueva)"
      ],
      "metadata": {
        "colab": {
          "base_uri": "https://localhost:8080/"
        },
        "id": "uZpXynsF27Zl",
        "outputId": "d15737ec-376e-450b-e1ff-603c760d8d05"
      },
      "execution_count": null,
      "outputs": [
        {
          "output_type": "stream",
          "name": "stdout",
          "text": [
            "(1, 2, 3, 4, 5)\n",
            "(1, 2, 4, 5)\n"
          ]
        }
      ]
    },
    {
      "cell_type": "markdown",
      "source": [
        "## Diferencia con una lista\n",
        "- En una tupla no se pueden agregar más valores, los valores que tendrá al inicio son los que va a tener siempre, ya que no se pueden añadir ni quitar.\n",
        "- Las listas se definen con corchetes, en cambio las tuplas se definen con paréntesis.\n",
        "-Las tuplas se usan cualndo se quieren almacenar elementos que no cambarán, en cambio en las listas se almacenan elementos que pueden cambiar a lo largo del tiempo.\n",
        "\n"
      ],
      "metadata": {
        "id": "3EhaD4RShmBE"
      }
    },
    {
      "cell_type": "code",
      "source": [
        "#Tupla\n",
        "\n",
        "pastel = (\"Chocolate\", \"Vainilla\", \"Fresa\", \"Tres Leches\")\n",
        "print(pastel)\n",
        "#En las listas se usa el append para añadirle más elementos, en las tuplas no\n",
        "pastel.append(\"Red Velvet\")"
      ],
      "metadata": {
        "colab": {
          "base_uri": "https://localhost:8080/",
          "height": 193
        },
        "id": "6KYjS-YGkQ8S",
        "outputId": "5ced40a9-c147-48f4-f3ad-1bb3a0d0f893"
      },
      "execution_count": null,
      "outputs": [
        {
          "output_type": "stream",
          "name": "stdout",
          "text": [
            "('Chocolate', 'Vainilla', 'Fresa', 'Tres Leches')\n"
          ]
        },
        {
          "output_type": "error",
          "ename": "AttributeError",
          "evalue": "'tuple' object has no attribute 'append'",
          "traceback": [
            "\u001b[0;31m---------------------------------------------------------------------------\u001b[0m",
            "\u001b[0;31mAttributeError\u001b[0m                            Traceback (most recent call last)",
            "\u001b[0;32m<ipython-input-8-afe4a8957d98>\u001b[0m in \u001b[0;36m<cell line: 4>\u001b[0;34m()\u001b[0m\n\u001b[1;32m      2\u001b[0m \u001b[0mprint\u001b[0m\u001b[0;34m(\u001b[0m\u001b[0mpastel\u001b[0m\u001b[0;34m)\u001b[0m\u001b[0;34m\u001b[0m\u001b[0;34m\u001b[0m\u001b[0m\n\u001b[1;32m      3\u001b[0m \u001b[0;34m\u001b[0m\u001b[0m\n\u001b[0;32m----> 4\u001b[0;31m \u001b[0mpastel\u001b[0m\u001b[0;34m.\u001b[0m\u001b[0mappend\u001b[0m\u001b[0;34m(\u001b[0m\u001b[0;34m\"Red Velvet\"\u001b[0m\u001b[0;34m)\u001b[0m\u001b[0;34m\u001b[0m\u001b[0;34m\u001b[0m\u001b[0m\n\u001b[0m",
            "\u001b[0;31mAttributeError\u001b[0m: 'tuple' object has no attribute 'append'"
          ]
        }
      ]
    },
    {
      "cell_type": "code",
      "source": [
        "#Lista\n",
        "\n",
        "helado = [\"Chocolate\", \"Pistache\", \"Napolitano\", \"Chicle\", \"Galleta\"]\n",
        "print(helado)\n",
        "\n",
        "#En este caso si se pudo agregar un elemento más a la lista\n",
        "helado.append(\"Choco menta\")\n",
        "print(helado)"
      ],
      "metadata": {
        "colab": {
          "base_uri": "https://localhost:8080/"
        },
        "id": "rsL3ke8Y4Rsz",
        "outputId": "14a8ac42-f4c0-491b-efdc-a3c8b2eb01e6"
      },
      "execution_count": null,
      "outputs": [
        {
          "output_type": "stream",
          "name": "stdout",
          "text": [
            "['Chocolate', 'Pistache', 'Napolitano', 'Chicle', 'Galleta']\n",
            "['Chocolate', 'Pistache', 'Napolitano', 'Chicle', 'Galleta', 'Choco menta']\n"
          ]
        }
      ]
    },
    {
      "cell_type": "markdown",
      "source": [
        "## Usos más comúnes de las tuplas\n",
        "\n",
        "1. Selecciona elementos que la componen, aquí también se puede hacer uso del slicing."
      ],
      "metadata": {
        "id": "st2EbuuF5PTL"
      }
    },
    {
      "cell_type": "code",
      "source": [
        "#Imprimir el elemento 1\n",
        "\n",
        "#Creamos la tupla y la imprimimos\n",
        "planetas = (\"Saturno\", \"Marte\", \"Tierra\", \"Neptuno\", \"Venus\")\n",
        "print(planetas)\n",
        "\n",
        "#Imprimimos el elemento indicado\n",
        "print(planetas[1])\n",
        "\n",
        "#También se puede imprimir el último elemento\n",
        "print(planetas[-1])"
      ],
      "metadata": {
        "colab": {
          "base_uri": "https://localhost:8080/"
        },
        "id": "r6jX2FWN5msA",
        "outputId": "d9627743-5b19-41d6-b70c-6f3504608e06"
      },
      "execution_count": null,
      "outputs": [
        {
          "output_type": "stream",
          "name": "stdout",
          "text": [
            "('Saturno', 'Marte', 'Tierra', 'Neptuno', 'Venus')\n",
            "Marte\n",
            "Venus\n"
          ]
        }
      ]
    },
    {
      "cell_type": "code",
      "source": [
        "#Con slicing, quiero que imprima desde el elemento 2 hasta el final\n",
        "\n",
        "print(planetas[2:])"
      ],
      "metadata": {
        "colab": {
          "base_uri": "https://localhost:8080/"
        },
        "id": "n6hRinQI6xwR",
        "outputId": "3e91e389-87bb-45e9-ad96-9c08766f4644"
      },
      "execution_count": null,
      "outputs": [
        {
          "output_type": "stream",
          "name": "stdout",
          "text": [
            "('Tierra', 'Neptuno', 'Venus')\n"
          ]
        }
      ]
    },
    {
      "cell_type": "markdown",
      "source": [
        "2. Se pueden hacer búsquedas en las tuplas."
      ],
      "metadata": {
        "id": "wlnQ4wKC7P-D"
      }
    },
    {
      "cell_type": "code",
      "source": [
        "ejemplo = (4, \"Cristal\", 3.14, [3, 6, 9], 4)\n",
        "print(ejemplo)\n",
        "\n",
        "#Quiero buscar si existe 4 en la tupla\n",
        "print(4 in ejemplo)\n",
        "\n",
        "#Quiero en que posición se encuentra el 3.14\n",
        "print(ejemplo.index(3.14))\n",
        "\n",
        "#Quiero saber cuantas veces se repite el 4 en la tupla\n",
        "print(ejemplo.count(4))\n",
        "\n",
        "#Quiero saber la longitud de la tupla\n",
        "print(len(ejemplo))"
      ],
      "metadata": {
        "colab": {
          "base_uri": "https://localhost:8080/"
        },
        "id": "pgtMvoSw84iu",
        "outputId": "71c18251-3a1d-4a2f-870f-fd868f482474"
      },
      "execution_count": null,
      "outputs": [
        {
          "output_type": "stream",
          "name": "stdout",
          "text": [
            "(4, 'Cristal', 3.14, [3, 6, 9], 4)\n",
            "True\n",
            "2\n",
            "2\n",
            "5\n"
          ]
        }
      ]
    },
    {
      "cell_type": "markdown",
      "source": [
        "3. Se pueden transformar listas en duplas y viceversa."
      ],
      "metadata": {
        "id": "DR4uSBcC-pG3"
      }
    },
    {
      "cell_type": "code",
      "source": [
        "utiles = (\"Cuaderno\", \"Libro\", \"Mochila\", \"Colores\")\n",
        "\n",
        "#Se convierte a lista y el retorno se guarda en la variable lista\n",
        "lista = list(utiles)\n",
        "\n",
        "#Si la imprimimos, nos damos cuenta de que se hace lista\n",
        "print(utiles)\n",
        "\n",
        "#Ahora trasformaremos la lista en tupla\n",
        "lista = [\"Cuaderno\", \"Libro\", \"Mochila\", \"Colores\"]\n",
        "\n",
        "#Se convierte a tupla con la tuple\n",
        "utiles = tuple(lista)\n",
        "\n",
        "#Si la imprimimos, nos damos cuenta de que se vuelve tupla\n",
        "print(lista)\n",
        "\n"
      ],
      "metadata": {
        "colab": {
          "base_uri": "https://localhost:8080/"
        },
        "id": "R6bayfL3BCoD",
        "outputId": "c127d782-1d2e-42ae-e2ea-6c5eaee588a2"
      },
      "execution_count": null,
      "outputs": [
        {
          "output_type": "stream",
          "name": "stdout",
          "text": [
            "('Cuaderno', 'Libro', 'Mochila', 'Colores')\n",
            "['Cuaderno', 'Libro', 'Mochila', 'Colores']\n"
          ]
        }
      ]
    },
    {
      "cell_type": "markdown",
      "source": [
        "# Ejercicios con Tuplas"
      ],
      "metadata": {
        "id": "gKoD6RnrBbh8"
      }
    },
    {
      "cell_type": "markdown",
      "source": [
        "1. Crea una tupla con números e indica el numero con mayor valor y el que menor tenga."
      ],
      "metadata": {
        "id": "IjYqj61JB9GB"
      }
    },
    {
      "cell_type": "code",
      "source": [
        "numeros = (7,6,5,4,3,2,3,4,5,1,4,3)\n",
        "\n",
        "print(\"Maximo: \",max(numeros))\n",
        "\n",
        "print(\"Minimo: \",min(numeros))"
      ],
      "metadata": {
        "colab": {
          "base_uri": "https://localhost:8080/"
        },
        "id": "iJ9NVzgmDP3H",
        "outputId": "83715e8c-83e7-4106-c1bc-5c69927ac392"
      },
      "execution_count": null,
      "outputs": [
        {
          "output_type": "stream",
          "name": "stdout",
          "text": [
            "Maximo:  7\n",
            "Minimo:  1\n"
          ]
        }
      ]
    },
    {
      "cell_type": "markdown",
      "source": [
        "2. Concatenar dos tuplas y mostrar el resultado."
      ],
      "metadata": {
        "id": "ZusyVpqmpSQ_"
      }
    },
    {
      "cell_type": "code",
      "source": [
        "tupla1 = (1, 2, 3)\n",
        "tupla2 = (4, 5, 6)\n",
        "tupla_concatenada = tupla1 + tupla2\n",
        "print(\"Tupla concatenada:\", tupla_concatenada)"
      ],
      "metadata": {
        "colab": {
          "base_uri": "https://localhost:8080/"
        },
        "id": "igglPcOzpfPj",
        "outputId": "87a2e1a2-7c2c-44af-985f-bf2b43bf4f40"
      },
      "execution_count": 1,
      "outputs": [
        {
          "output_type": "stream",
          "name": "stdout",
          "text": [
            "Tupla concatenada: (1, 2, 3, 4, 5, 6)\n"
          ]
        }
      ]
    },
    {
      "cell_type": "markdown",
      "source": [
        "3. Convertir una tupla en una lista."
      ],
      "metadata": {
        "id": "PLJYHMbIp2RP"
      }
    },
    {
      "cell_type": "code",
      "source": [
        "colores = (1, 2, 3, 4, 5)\n",
        "lista_colores = list(colores)\n",
        "print(\"Convertiste la tupla en lista:\", lista_colores)"
      ],
      "metadata": {
        "colab": {
          "base_uri": "https://localhost:8080/"
        },
        "id": "zgwO6ojsqNTm",
        "outputId": "8dc9059b-f635-48cd-e6b6-984e936404b3"
      },
      "execution_count": 2,
      "outputs": [
        {
          "output_type": "stream",
          "name": "stdout",
          "text": [
            "Convertiste la tupla en lista: [1, 2, 3, 4, 5]\n"
          ]
        }
      ]
    },
    {
      "cell_type": "markdown",
      "source": [
        "4. Contar cuántas veces aparecen las calificaciones en una tupla."
      ],
      "metadata": {
        "id": "KikLAR6uqoXk"
      }
    },
    {
      "cell_type": "code",
      "source": [
        "calificaciones = (100, 97, 100, 58, 78, 58, 99, 90, 87, 100)\n",
        "calificacion = 100\n",
        "apariciones = calificaciones.count(calificacion)\n",
        "print(\"El elemento\", calificacion, \"aparece\", apariciones, \"veces en la tupla.\")\n"
      ],
      "metadata": {
        "colab": {
          "base_uri": "https://localhost:8080/"
        },
        "id": "3uT680CBq7Xf",
        "outputId": "7f115206-2cb3-494c-f4ad-df2dffdbd70e"
      },
      "execution_count": 4,
      "outputs": [
        {
          "output_type": "stream",
          "name": "stdout",
          "text": [
            "El elemento 100 aparece 3 veces en la tupla.\n"
          ]
        }
      ]
    },
    {
      "cell_type": "markdown",
      "source": [
        "5. Crear una tupla con animales y mostrar el quinto animal."
      ],
      "metadata": {
        "id": "uexcPuVoscuT"
      }
    },
    {
      "cell_type": "code",
      "source": [
        "animales = (\"Koala\", \"Serpiente\", \"Cisne\", \"Venado\", \"Araña\", \"Lechuza\", \"Oruga\")\n",
        "print(\"El quinto animal es:\", animales[5])"
      ],
      "metadata": {
        "colab": {
          "base_uri": "https://localhost:8080/"
        },
        "id": "V5HmT1WZvryG",
        "outputId": "82e39ff8-dc9d-4b18-d64d-3471df2baa0d"
      },
      "execution_count": 8,
      "outputs": [
        {
          "output_type": "stream",
          "name": "stdout",
          "text": [
            "El quinto animal es: Lechuza\n"
          ]
        }
      ]
    },
    {
      "cell_type": "markdown",
      "source": [
        "6. Crear una tupla de tuplas y acceder al primer elemento de la segunda tupla."
      ],
      "metadata": {
        "id": "ICLToh7wwpEM"
      }
    },
    {
      "cell_type": "code",
      "source": [
        "tupla_de_tuplas = ((1, 2), (3, 4), (5, 6))\n",
        "primer_elemento_segunda_tupla = tupla_de_tuplas[1][0]\n",
        "print(\"Primer elemento de la segunda tupla:\", primer_elemento_segunda_tupla)\n"
      ],
      "metadata": {
        "colab": {
          "base_uri": "https://localhost:8080/"
        },
        "id": "qo7xvOIKwrJF",
        "outputId": "11930e08-18f0-4103-adab-6fe9c5553462"
      },
      "execution_count": 9,
      "outputs": [
        {
          "output_type": "stream",
          "name": "stdout",
          "text": [
            "Primer elemento de la segunda tupla: 3\n"
          ]
        }
      ]
    },
    {
      "cell_type": "markdown",
      "source": [
        "7.Comparar dos tuplas y verificar si son iguales."
      ],
      "metadata": {
        "id": "Gdk_7Hlcw4ve"
      }
    },
    {
      "cell_type": "code",
      "source": [
        "primera_tupla = (1, 2, 3)\n",
        "segunda_tupla = (1, 2, 3)\n",
        "if primera_tupla == segunda_tupla:\n",
        "    print(\"Las tuplas son iguales.\")\n",
        "else:\n",
        "    print(\"Las tuplas son diferentes.\")"
      ],
      "metadata": {
        "colab": {
          "base_uri": "https://localhost:8080/"
        },
        "id": "GeUmDq4kxXsN",
        "outputId": "546a5834-aa90-461d-a9f0-7928f6a503d3"
      },
      "execution_count": 10,
      "outputs": [
        {
          "output_type": "stream",
          "name": "stdout",
          "text": [
            "Las tuplas son iguales.\n"
          ]
        }
      ]
    },
    {
      "cell_type": "markdown",
      "source": [
        "8. Crear una tupla con números y verificar si un elemento está presente."
      ],
      "metadata": {
        "id": "tMrICQAZxm_T"
      }
    },
    {
      "cell_type": "code",
      "source": [
        "num = (10, 20, 30, 40, 50, 60, 70, 80, 90, 100)\n",
        "numero_a_buscar = 101\n",
        "if numero_a_buscar in num:\n",
        "    print(\"El elemento\", numero_a_buscar, \"está presente en la tupla.\")\n",
        "else:\n",
        "    print(\"El elemento\", numero_a_buscar, \"no está presente en la tupla.\")\n"
      ],
      "metadata": {
        "colab": {
          "base_uri": "https://localhost:8080/"
        },
        "id": "1WfbmiCNx4l4",
        "outputId": "3366298f-9fbc-4356-b151-9c500d1de9f7"
      },
      "execution_count": 11,
      "outputs": [
        {
          "output_type": "stream",
          "name": "stdout",
          "text": [
            "El elemento 101 no está presente en la tupla.\n"
          ]
        }
      ]
    },
    {
      "cell_type": "markdown",
      "source": [
        "9. Realizar slicing en una tupla para obtener una sub-tupla."
      ],
      "metadata": {
        "id": "2XbQFqTSyXCP"
      }
    },
    {
      "cell_type": "code",
      "source": [
        "tupla_slicing = (1, 2, 3, 4, 5)\n",
        "sub_tupla = tupla_slicing[1:4]\n",
        "print(\"Sub-tupla:\", sub_tupla)"
      ],
      "metadata": {
        "colab": {
          "base_uri": "https://localhost:8080/"
        },
        "id": "8D2wu4HXyjX_",
        "outputId": "7a159e86-32b0-406c-c58e-0b0ebb7385f8"
      },
      "execution_count": 14,
      "outputs": [
        {
          "output_type": "stream",
          "name": "stdout",
          "text": [
            "Sub-tupla: (2, 3, 4)\n"
          ]
        }
      ]
    },
    {
      "cell_type": "markdown",
      "source": [
        "10. Crear una tupla con los números del 1 al 5 e imprimirlos uno por uno."
      ],
      "metadata": {
        "id": "tacgwgp3zJ2d"
      }
    },
    {
      "cell_type": "code",
      "source": [
        "tupla_de_numeros = (1, 2, 3, 4, 5)\n",
        "for numero in tupla_de_numeros:\n",
        "  print(numero)"
      ],
      "metadata": {
        "colab": {
          "base_uri": "https://localhost:8080/"
        },
        "id": "Uh2M0ruR0pAL",
        "outputId": "06f6b23e-6da7-428b-9ede-4085fdb25e88"
      },
      "execution_count": 17,
      "outputs": [
        {
          "output_type": "stream",
          "name": "stdout",
          "text": [
            "1\n",
            "2\n",
            "3\n",
            "4\n",
            "5\n"
          ]
        }
      ]
    }
  ]
}