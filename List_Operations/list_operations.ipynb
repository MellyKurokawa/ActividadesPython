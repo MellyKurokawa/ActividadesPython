{
  "nbformat": 4,
  "nbformat_minor": 0,
  "metadata": {
    "colab": {
      "provenance": []
    },
    "kernelspec": {
      "name": "python3",
      "display_name": "Python 3"
    },
    "language_info": {
      "name": "python"
    }
  },
  "cells": [
    {
      "cell_type": "code",
      "source": [
        "#Copia una variable\n",
        "nombre = \"Alexis\"\n",
        "nombre2= nombre\n",
        "nombre = \"Eduardo\"\n",
        "print(nombre, nombre2)"
      ],
      "metadata": {
        "colab": {
          "base_uri": "https://localhost:8080/"
        },
        "id": "0mNTmOtwFTmU",
        "outputId": "c85b35b8-c6d5-45a9-8ad6-eae2be47c348"
      },
      "execution_count": null,
      "outputs": [
        {
          "output_type": "stream",
          "name": "stdout",
          "text": [
            "Eduardo Alexis\n"
          ]
        }
      ]
    },
    {
      "cell_type": "code",
      "source": [
        "numbers = ['one', 'two', 'three']\n",
        "numbers_two = numbers\n",
        "\n",
        "print(numbers, numbers_two)\n",
        "print(numbers, numbers_two, sep='\\n')\n",
        "\n",
        "numbers[0] = 'Alexis' #Sólo estoy modificando la primera lista\n",
        "\n",
        "print(numbers, numbers_two, sep='\\n')\n"
      ],
      "metadata": {
        "colab": {
          "base_uri": "https://localhost:8080/"
        },
        "id": "ruf7jQAWFxVz",
        "outputId": "260e9853-0cff-47fb-a601-bf64db086bee"
      },
      "execution_count": null,
      "outputs": [
        {
          "output_type": "stream",
          "name": "stdout",
          "text": [
            "['one', 'two', 'three'] ['one', 'two', 'three']\n",
            "['one', 'two', 'three']\n",
            "['one', 'two', 'three']\n",
            "['Alexis', 'two', 'three']\n",
            "['Alexis', 'two', 'three']\n"
          ]
        }
      ]
    },
    {
      "cell_type": "code",
      "source": [
        "numbers = ['one', 'two', 'three']\n",
        "numbers_copy = numbers.copy()\n",
        "\n",
        "numbers[0] = 'Alexis' #Sólo estoy modificando la primera lista\n",
        "print(numbers, numbers_copy, sep='\\n')\n",
        "\n"
      ],
      "metadata": {
        "colab": {
          "base_uri": "https://localhost:8080/"
        },
        "id": "Iv8yVtsoIufb",
        "outputId": "b1905cec-6b92-4deb-804a-d7e963c3600b"
      },
      "execution_count": null,
      "outputs": [
        {
          "output_type": "stream",
          "name": "stdout",
          "text": [
            "['Alexis', 'two', 'three']\n",
            "['one', 'two', 'three']\n"
          ]
        }
      ]
    },
    {
      "cell_type": "code",
      "source": [
        "numbers = ['one', 'two', 'three']\n",
        "numbers_copy = numbers[:]\n",
        "\n",
        "numbers[0] = 'Alexis'\n",
        "print(numbers, numbers_copy, sep='\\n')\n",
        "\n"
      ],
      "metadata": {
        "colab": {
          "base_uri": "https://localhost:8080/"
        },
        "id": "-oiKzpw5JRJR",
        "outputId": "66c0bdf2-5ee8-4eba-aab9-d41679bf5adb"
      },
      "execution_count": null,
      "outputs": [
        {
          "output_type": "stream",
          "name": "stdout",
          "text": [
            "['Alexis', 'two', 'three']\n",
            "['one', 'two', 'three']\n"
          ]
        }
      ]
    },
    {
      "cell_type": "code",
      "source": [
        "#Merge list\n",
        "numbers_one = [1, 2, 3]\n",
        "numbers_two = [4, 5, 6]\n",
        "\n",
        "numbers = numbers_one + numbers_two\n",
        "print(numbers)"
      ],
      "metadata": {
        "colab": {
          "base_uri": "https://localhost:8080/"
        },
        "id": "7CaNG-NSJ0e_",
        "outputId": "c03c3e02-ef0f-4bab-c0b1-b7a5832787c1"
      },
      "execution_count": null,
      "outputs": [
        {
          "output_type": "stream",
          "name": "stdout",
          "text": [
            "[1, 2, 3, 4, 5, 6]\n"
          ]
        }
      ]
    },
    {
      "cell_type": "code",
      "source": [
        "#Merge list\n",
        "numbers_one = [1, 2, 3]\n",
        "numbers_two = [4, 5, 6]\n",
        "\n",
        "numbers = (numbers_one, numbers_two)\n",
        "print(numbers)"
      ],
      "metadata": {
        "colab": {
          "base_uri": "https://localhost:8080/"
        },
        "id": "M_KQ0GlKKc2I",
        "outputId": "effd80eb-780a-4e3b-ff45-1edc2b76862e"
      },
      "execution_count": null,
      "outputs": [
        {
          "output_type": "stream",
          "name": "stdout",
          "text": [
            "([1, 2, 3], [4, 5, 6])\n"
          ]
        }
      ]
    },
    {
      "cell_type": "code",
      "source": [
        "#Unir con ciclo\n",
        "\n",
        "numbers_one = [1, 2, 3]\n",
        "numbers_two = [4, 5, 6]\n",
        "\n",
        "for number in numbers_two:\n",
        "  numbers_one.append(number)\n",
        "\n",
        "  print(numbers_one)"
      ],
      "metadata": {
        "colab": {
          "base_uri": "https://localhost:8080/"
        },
        "id": "6FmkrMj0K8mr",
        "outputId": "35b4f5d8-d0ed-4d58-b2e4-dbadd3f2e2b5"
      },
      "execution_count": null,
      "outputs": [
        {
          "output_type": "stream",
          "name": "stdout",
          "text": [
            "[1, 2, 3, 4]\n",
            "[1, 2, 3, 4, 5]\n",
            "[1, 2, 3, 4, 5, 6]\n"
          ]
        }
      ]
    },
    {
      "cell_type": "code",
      "source": [
        "#Merge list\n",
        "numbers_one = [1, 2, 3]\n",
        "numbers_two = [4, 5, 6]\n",
        "\n",
        "numbers_one.extend(numbers_two)\n",
        "print(numbers_one)"
      ],
      "metadata": {
        "colab": {
          "base_uri": "https://localhost:8080/"
        },
        "id": "GMhcZXi-Mmh9",
        "outputId": "4ccca7d0-b092-4504-a69b-f015d4507666"
      },
      "execution_count": null,
      "outputs": [
        {
          "output_type": "stream",
          "name": "stdout",
          "text": [
            "[1, 2, 3, 4, 5, 6]\n"
          ]
        }
      ]
    },
    {
      "cell_type": "code",
      "source": [
        "#Merge list\n",
        "numbers_one = [1, 2, 3]\n",
        "numbers_two = [4, 5, 6]\n",
        "\n",
        "for number in (numbers_one, numbers_two):\n",
        "  print(number)\n",
        "\n",
        "for number in (numbers_one, numbers_two):\n",
        "  for n in number:\n",
        "   print(n)\n",
        "\n",
        "  numbers=[]\n",
        "  for number in (numbers_one, numbers_two):\n",
        "   for n in number:\n",
        "    numbers.append(n)\n",
        "\n",
        "  print(numbers)\n"
      ],
      "metadata": {
        "colab": {
          "base_uri": "https://localhost:8080/"
        },
        "id": "brbtxSdYMzIJ",
        "outputId": "56cee3c4-769a-4826-e508-b464e3736dac"
      },
      "execution_count": null,
      "outputs": [
        {
          "output_type": "stream",
          "name": "stdout",
          "text": [
            "[1, 2, 3]\n",
            "[4, 5, 6]\n",
            "1\n",
            "2\n",
            "3\n",
            "[1, 2, 3, 4, 5, 6]\n",
            "4\n",
            "5\n",
            "6\n",
            "[1, 2, 3, 4, 5, 6]\n"
          ]
        }
      ]
    },
    {
      "cell_type": "code",
      "source": [
        "#List Comprehension\n",
        "\n",
        "numbers = [n for number in (numbers_one, numbers_two) for n in number]\n",
        "\n",
        "print(numbers)"
      ],
      "metadata": {
        "colab": {
          "base_uri": "https://localhost:8080/"
        },
        "id": "NhBgFtoON0dV",
        "outputId": "da63fc99-bd12-4797-d2d2-ebcb846b27cb"
      },
      "execution_count": null,
      "outputs": [
        {
          "output_type": "stream",
          "name": "stdout",
          "text": [
            "[1, 2, 3, 4, 5, 6]\n"
          ]
        }
      ]
    },
    {
      "cell_type": "code",
      "source": [
        "numbers_one = [1, 2, 3]\n",
        "numbers_two = [4, 5, 6]\n",
        "\n",
        "numbers = [*numbers_one, *numbers_two]\n",
        "print(numbers)"
      ],
      "metadata": {
        "colab": {
          "base_uri": "https://localhost:8080/"
        },
        "id": "MK7ifDARP0Nk",
        "outputId": "7afd6b09-ea6a-4eaf-92e1-98fb7c4b908c"
      },
      "execution_count": null,
      "outputs": [
        {
          "output_type": "stream",
          "name": "stdout",
          "text": [
            "[1, 2, 3, 4, 5, 6]\n"
          ]
        }
      ]
    }
  ]
}