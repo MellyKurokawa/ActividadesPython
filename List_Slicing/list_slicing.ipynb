{
  "nbformat": 4,
  "nbformat_minor": 0,
  "metadata": {
    "colab": {
      "provenance": []
    },
    "kernelspec": {
      "name": "python3",
      "display_name": "Python 3"
    },
    "language_info": {
      "name": "python"
    }
  },
  "cells": [
    {
      "cell_type": "code",
      "execution_count": null,
      "metadata": {
        "id": "sZb8ycenFAmy"
      },
      "outputs": [],
      "source": [
        " # Slicing List"
      ]
    },
    {
      "cell_type": "code",
      "source": [
        "players = ['one', 'two', 'three', 'four', 'five']\n",
        "print(players[1])\n",
        "print(players)\n",
        "print(type(players))\n",
        "print(players[1:3])"
      ],
      "metadata": {
        "colab": {
          "base_uri": "https://localhost:8080/"
        },
        "id": "_qX2uiufFoOH",
        "outputId": "495155ca-2011-4257-c48c-f2c501bcdff3"
      },
      "execution_count": null,
      "outputs": [
        {
          "output_type": "stream",
          "name": "stdout",
          "text": [
            "two\n",
            "['one', 'two', 'three', 'four', 'five']\n",
            "<class 'list'>\n",
            "['two', 'three']\n"
          ]
        }
      ]
    },
    {
      "cell_type": "code",
      "source": [
        "print(players[0:1])\n",
        "print(players[:3])"
      ],
      "metadata": {
        "colab": {
          "base_uri": "https://localhost:8080/"
        },
        "id": "m4bW4EVmGZ5Z",
        "outputId": "3e061900-e6eb-4908-cc32-6a29e24ac0fc"
      },
      "execution_count": null,
      "outputs": [
        {
          "output_type": "stream",
          "name": "stdout",
          "text": [
            "['one']\n",
            "['one', 'two', 'three']\n"
          ]
        }
      ]
    },
    {
      "cell_type": "code",
      "source": [
        "print(players[2:])"
      ],
      "metadata": {
        "colab": {
          "base_uri": "https://localhost:8080/"
        },
        "id": "TrLhOQ1sG263",
        "outputId": "f259e060-96f4-4255-9640-ff2b51262512"
      },
      "execution_count": null,
      "outputs": [
        {
          "output_type": "stream",
          "name": "stdout",
          "text": [
            "['three', 'four', 'five']\n"
          ]
        }
      ]
    },
    {
      "cell_type": "code",
      "source": [
        "print(players[:])"
      ],
      "metadata": {
        "colab": {
          "base_uri": "https://localhost:8080/"
        },
        "id": "zShXpvAgG_YA",
        "outputId": "b4366080-265b-494a-b7b8-4acfec7c30ef"
      },
      "execution_count": null,
      "outputs": [
        {
          "output_type": "stream",
          "name": "stdout",
          "text": [
            "['one', 'two', 'three', 'four', 'five']\n"
          ]
        }
      ]
    },
    {
      "cell_type": "code",
      "source": [
        "print(players[-1:-2])\n",
        "print(players[-1])\n",
        "print(players[:-1])\n",
        "print(players[:-2])\n",
        "print(players[-3:])"
      ],
      "metadata": {
        "colab": {
          "base_uri": "https://localhost:8080/"
        },
        "id": "ardNq50kHFeZ",
        "outputId": "974ca712-d58e-4815-bbad-d5420874f182"
      },
      "execution_count": null,
      "outputs": [
        {
          "output_type": "stream",
          "name": "stdout",
          "text": [
            "[]\n",
            "five\n",
            "['one', 'two', 'three', 'four']\n",
            "['one', 'two', 'three']\n",
            "['three', 'four', 'five']\n"
          ]
        }
      ]
    },
    {
      "cell_type": "code",
      "source": [
        "print(players[-5])\n",
        "print(players[-5:-2])"
      ],
      "metadata": {
        "colab": {
          "base_uri": "https://localhost:8080/"
        },
        "id": "2iuLIJxpIdXx",
        "outputId": "8add719a-fff8-4bd8-abd9-b93faeb5ed72"
      },
      "execution_count": null,
      "outputs": [
        {
          "output_type": "stream",
          "name": "stdout",
          "text": [
            "one\n",
            "['one', 'two', 'three']\n"
          ]
        }
      ]
    },
    {
      "cell_type": "code",
      "source": [
        "first_index = -5\n",
        "print(players[first_index:])"
      ],
      "metadata": {
        "colab": {
          "base_uri": "https://localhost:8080/"
        },
        "id": "zTgHV6iHI5Xq",
        "outputId": "990e1125-d9bb-4f07-9851-9b5ae53d5bfc"
      },
      "execution_count": null,
      "outputs": [
        {
          "output_type": "stream",
          "name": "stdout",
          "text": [
            "['one', 'two', 'three', 'four', 'five']\n"
          ]
        }
      ]
    },
    {
      "cell_type": "code",
      "source": [
        "# Palindromo = oso, anitalavalatina\n",
        "\n",
        "players.append('six')\n",
        "players.append('seven')\n",
        "players.append('eignt')\n",
        "players.append('nine')\n",
        "players.append('ten')"
      ],
      "metadata": {
        "id": "G8Xu_suEJsve"
      },
      "execution_count": null,
      "outputs": []
    },
    {
      "cell_type": "code",
      "source": [
        "print(players)\n",
        "print(players[::2])\n",
        "print(players[::4])\n",
        "print(players[3:9:2])\n",
        "print(players[1::2])"
      ],
      "metadata": {
        "colab": {
          "base_uri": "https://localhost:8080/"
        },
        "id": "hmCZ0V0oJ_Yf",
        "outputId": "30fe02e2-08cd-4e5d-ea4e-e51566aecce8"
      },
      "execution_count": null,
      "outputs": [
        {
          "output_type": "stream",
          "name": "stdout",
          "text": [
            "['one', 'two', 'three', 'four', 'five', 'six', 'seven', 'eignt', 'nine', 'ten', 'six', 'seven', 'eignt', 'nine', 'ten']\n",
            "['one', 'three', 'five', 'seven', 'nine', 'six', 'eignt', 'ten']\n",
            "['one', 'five', 'nine', 'eignt']\n",
            "['four', 'six', 'eignt']\n",
            "['two', 'four', 'six', 'eignt', 'ten', 'seven', 'nine']\n"
          ]
        }
      ]
    },
    {
      "cell_type": "code",
      "source": [
        "numbers = list(range(1,11))\n",
        "print(numbers)\n",
        "print(len(numbers)+1)\n",
        "print(len(numbers))\n",
        "\n",
        "print(numbers[::2])\n",
        "print(numbers[::-1])"
      ],
      "metadata": {
        "colab": {
          "base_uri": "https://localhost:8080/"
        },
        "id": "4QrnE792LVhV",
        "outputId": "7c0f5512-42da-45f2-ed09-f6297ac7b4eb"
      },
      "execution_count": null,
      "outputs": [
        {
          "output_type": "stream",
          "name": "stdout",
          "text": [
            "[1, 2, 3, 4, 5, 6, 7, 8, 9, 10]\n",
            "11\n",
            "10\n",
            "[1, 3, 5, 7, 9]\n",
            "[10, 9, 8, 7, 6, 5, 4, 3, 2, 1]\n"
          ]
        }
      ]
    },
    {
      "cell_type": "code",
      "source": [
        "word ='anitalavalatina'\n",
        "word == word[::-1]"
      ],
      "metadata": {
        "colab": {
          "base_uri": "https://localhost:8080/"
        },
        "id": "p9U4VWOtMZqE",
        "outputId": "e4d355aa-ece1-4c48-a1dc-85525a31c45f"
      },
      "execution_count": null,
      "outputs": [
        {
          "output_type": "execute_result",
          "data": {
            "text/plain": [
              "True"
            ]
          },
          "metadata": {},
          "execution_count": 30
        }
      ]
    }
  ]
}